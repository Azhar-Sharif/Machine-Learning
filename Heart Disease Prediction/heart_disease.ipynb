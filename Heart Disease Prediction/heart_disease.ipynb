{
 "cells": [
  {
   "cell_type": "markdown",
   "metadata": {},
   "source": [
    "### About Dataset"
   ]
  },
  {
   "cell_type": "markdown",
   "metadata": {},
   "source": [
    "##### This is a multivaraiate type of dataset which means providing or involving a variety of separate mathematical or statistical variables, multivariate numerical data analysis. It is composed of 14 attributes which are age, sex, chest pain type, resting blood pressure, serum cholesterol, fasting blood sugar, resting electrocardiographic results, maximum heart rate achieved, exercise-induced angina, oldpeak — ST depression induced by exercise relative to rest, the slope of the peak exercise ST segment, number of major vessels and Thalassemia. "
   ]
  },
  {
   "cell_type": "markdown",
   "metadata": {},
   "source": [
    "### Aims and objectives\n",
    "we will find this after exploratory data analysis on dataset lets star the project importing all the libraries that we will need in this data set"
   ]
  },
  {
   "cell_type": "markdown",
   "metadata": {},
   "source": [
    "## Import Libraries"
   ]
  },
  {
   "cell_type": "code",
   "execution_count": 217,
   "metadata": {},
   "outputs": [],
   "source": [
    "import pandas as pd\n",
    "import numpy as np\n",
    "# import preprocessing libraries\n",
    "from sklearn.impute import SimpleImputer\n",
    "from sklearn.preprocessing import LabelEncoder, OneHotEncoder, StandardScaler\n",
    "from sklearn.compose import ColumnTransformer\n",
    "from sklearn.model_selection import train_test_split\n",
    "\n",
    "#Import Evaluation Metrices\n",
    "from sklearn.metrics import accuracy_score, confusion_matrix, classification_report\n",
    "from sklearn.model_selection import cross_val_score\n",
    "\n",
    "# import Models\n",
    "from sklearn.tree import DecisionTreeClassifier\n",
    "from sklearn.neighbors import KNeighborsClassifier\n",
    "from sklearn.svm import SVC"
   ]
  },
  {
   "cell_type": "markdown",
   "metadata": {},
   "source": [
    "### Load Dataset"
   ]
  },
  {
   "cell_type": "code",
   "execution_count": 218,
   "metadata": {},
   "outputs": [
    {
     "data": {
      "text/html": [
       "<div>\n",
       "<style scoped>\n",
       "    .dataframe tbody tr th:only-of-type {\n",
       "        vertical-align: middle;\n",
       "    }\n",
       "\n",
       "    .dataframe tbody tr th {\n",
       "        vertical-align: top;\n",
       "    }\n",
       "\n",
       "    .dataframe thead th {\n",
       "        text-align: right;\n",
       "    }\n",
       "</style>\n",
       "<table border=\"1\" class=\"dataframe\">\n",
       "  <thead>\n",
       "    <tr style=\"text-align: right;\">\n",
       "      <th></th>\n",
       "      <th>age</th>\n",
       "      <th>trestbps</th>\n",
       "      <th>chol</th>\n",
       "      <th>thalch</th>\n",
       "      <th>oldpeak</th>\n",
       "      <th>ca</th>\n",
       "      <th>sex</th>\n",
       "      <th>exang</th>\n",
       "      <th>dataset</th>\n",
       "      <th>cp</th>\n",
       "      <th>restecg</th>\n",
       "      <th>slope</th>\n",
       "      <th>thal</th>\n",
       "      <th>num</th>\n",
       "    </tr>\n",
       "  </thead>\n",
       "  <tbody>\n",
       "    <tr>\n",
       "      <th>0</th>\n",
       "      <td>63</td>\n",
       "      <td>145.0</td>\n",
       "      <td>233.0</td>\n",
       "      <td>150.0</td>\n",
       "      <td>2.3</td>\n",
       "      <td>0.0</td>\n",
       "      <td>Male</td>\n",
       "      <td>False</td>\n",
       "      <td>Cleveland</td>\n",
       "      <td>typical angina</td>\n",
       "      <td>lv hypertrophy</td>\n",
       "      <td>downsloping</td>\n",
       "      <td>fixed defect</td>\n",
       "      <td>0</td>\n",
       "    </tr>\n",
       "    <tr>\n",
       "      <th>1</th>\n",
       "      <td>67</td>\n",
       "      <td>160.0</td>\n",
       "      <td>286.0</td>\n",
       "      <td>108.0</td>\n",
       "      <td>1.5</td>\n",
       "      <td>3.0</td>\n",
       "      <td>Male</td>\n",
       "      <td>True</td>\n",
       "      <td>Cleveland</td>\n",
       "      <td>asymptomatic</td>\n",
       "      <td>lv hypertrophy</td>\n",
       "      <td>flat</td>\n",
       "      <td>normal</td>\n",
       "      <td>2</td>\n",
       "    </tr>\n",
       "    <tr>\n",
       "      <th>2</th>\n",
       "      <td>67</td>\n",
       "      <td>120.0</td>\n",
       "      <td>229.0</td>\n",
       "      <td>129.0</td>\n",
       "      <td>2.6</td>\n",
       "      <td>2.0</td>\n",
       "      <td>Male</td>\n",
       "      <td>True</td>\n",
       "      <td>Cleveland</td>\n",
       "      <td>asymptomatic</td>\n",
       "      <td>lv hypertrophy</td>\n",
       "      <td>flat</td>\n",
       "      <td>reversable defect</td>\n",
       "      <td>1</td>\n",
       "    </tr>\n",
       "    <tr>\n",
       "      <th>3</th>\n",
       "      <td>37</td>\n",
       "      <td>130.0</td>\n",
       "      <td>250.0</td>\n",
       "      <td>187.0</td>\n",
       "      <td>3.5</td>\n",
       "      <td>0.0</td>\n",
       "      <td>Male</td>\n",
       "      <td>False</td>\n",
       "      <td>Cleveland</td>\n",
       "      <td>non-anginal</td>\n",
       "      <td>normal</td>\n",
       "      <td>downsloping</td>\n",
       "      <td>normal</td>\n",
       "      <td>0</td>\n",
       "    </tr>\n",
       "    <tr>\n",
       "      <th>4</th>\n",
       "      <td>41</td>\n",
       "      <td>130.0</td>\n",
       "      <td>204.0</td>\n",
       "      <td>172.0</td>\n",
       "      <td>1.4</td>\n",
       "      <td>0.0</td>\n",
       "      <td>Female</td>\n",
       "      <td>False</td>\n",
       "      <td>Cleveland</td>\n",
       "      <td>atypical angina</td>\n",
       "      <td>lv hypertrophy</td>\n",
       "      <td>upsloping</td>\n",
       "      <td>normal</td>\n",
       "      <td>0</td>\n",
       "    </tr>\n",
       "  </tbody>\n",
       "</table>\n",
       "</div>"
      ],
      "text/plain": [
       "   age  trestbps   chol  thalch  oldpeak   ca     sex  exang    dataset  \\\n",
       "0   63     145.0  233.0   150.0      2.3  0.0    Male  False  Cleveland   \n",
       "1   67     160.0  286.0   108.0      1.5  3.0    Male   True  Cleveland   \n",
       "2   67     120.0  229.0   129.0      2.6  2.0    Male   True  Cleveland   \n",
       "3   37     130.0  250.0   187.0      3.5  0.0    Male  False  Cleveland   \n",
       "4   41     130.0  204.0   172.0      1.4  0.0  Female  False  Cleveland   \n",
       "\n",
       "                cp         restecg        slope               thal  num  \n",
       "0   typical angina  lv hypertrophy  downsloping       fixed defect    0  \n",
       "1     asymptomatic  lv hypertrophy         flat             normal    2  \n",
       "2     asymptomatic  lv hypertrophy         flat  reversable defect    1  \n",
       "3      non-anginal          normal  downsloping             normal    0  \n",
       "4  atypical angina  lv hypertrophy    upsloping             normal    0  "
      ]
     },
     "execution_count": 218,
     "metadata": {},
     "output_type": "execute_result"
    }
   ],
   "source": [
    "df = pd.read_csv(\"heart_disease.csv\")\n",
    "\n",
    "# Reorder columns\n",
    "new_order = ['age', 'trestbps', 'chol', 'thalch', 'oldpeak', 'ca', 'sex', 'exang', 'dataset', 'cp', 'restecg', 'slope', 'thal', 'num']\n",
    "df = df[new_order]\n",
    "df.head()"
   ]
  },
  {
   "cell_type": "markdown",
   "metadata": {},
   "source": [
    "### Make Inpedendent and dependant variables"
   ]
  },
  {
   "cell_type": "code",
   "execution_count": 219,
   "metadata": {},
   "outputs": [],
   "source": [
    "X = df.iloc[:, :-1].values\n",
    "y = df.iloc[:, -1].values\n"
   ]
  },
  {
   "cell_type": "markdown",
   "metadata": {},
   "source": [
    "### Dealing With missing Values"
   ]
  },
  {
   "cell_type": "code",
   "execution_count": 220,
   "metadata": {},
   "outputs": [
    {
     "data": {
      "text/plain": [
       "array([[63.0, 145.0, 233.0, ..., 'lv hypertrophy', 'downsloping',\n",
       "        'fixed defect'],\n",
       "       [67.0, 160.0, 286.0, ..., 'lv hypertrophy', 'flat', 'normal'],\n",
       "       [67.0, 120.0, 229.0, ..., 'lv hypertrophy', 'flat',\n",
       "        'reversable defect'],\n",
       "       ...,\n",
       "       [55.0, 122.0, 223.0, ..., 'st-t abnormality', 'flat',\n",
       "        'fixed defect'],\n",
       "       [58.0, 130.0, 385.0, ..., 'lv hypertrophy', 'flat', 'normal'],\n",
       "       [62.0, 120.0, 254.0, ..., 'lv hypertrophy', 'flat', 'normal']],\n",
       "      dtype=object)"
      ]
     },
     "execution_count": 220,
     "metadata": {},
     "output_type": "execute_result"
    }
   ],
   "source": [
    "# Impute missing values using median for numerical columns\n",
    "imputer_numeric = SimpleImputer(strategy='median')\n",
    "X[:, 0:6] = imputer_numeric.fit_transform(X[:, 0:6])\n",
    "\n",
    "# Impute missing values using most_frequent for categorical columns\n",
    "categorical_columns = [6, 7, 8, 9, 10, 11, 12]\n",
    "imputer_categorical = SimpleImputer(strategy='most_frequent')\n",
    "X[:, categorical_columns] = imputer_categorical.fit_transform(X[:, categorical_columns])\n",
    "X"
   ]
  },
  {
   "cell_type": "markdown",
   "metadata": {},
   "source": [
    "### Dealing with catogorical data"
   ]
  },
  {
   "cell_type": "code",
   "execution_count": 221,
   "metadata": {},
   "outputs": [
    {
     "name": "stdout",
     "output_type": "stream",
     "text": [
      "      0    1    2    3    4    5    6    7    8    9   ...   12    13     14  \\\n",
      "0    0.0  0.0  0.0  1.0  1.0  0.0  0.0  1.0  0.0  0.0  ...  0.0  63.0  145.0   \n",
      "1    1.0  0.0  0.0  0.0  1.0  0.0  0.0  0.0  1.0  0.0  ...  0.0  67.0  160.0   \n",
      "2    1.0  0.0  0.0  0.0  1.0  0.0  0.0  0.0  1.0  0.0  ...  1.0  67.0  120.0   \n",
      "3    0.0  0.0  1.0  0.0  0.0  1.0  0.0  1.0  0.0  0.0  ...  0.0  37.0  130.0   \n",
      "4    0.0  1.0  0.0  0.0  1.0  0.0  0.0  0.0  0.0  1.0  ...  0.0  41.0  130.0   \n",
      "..   ...  ...  ...  ...  ...  ...  ...  ...  ...  ...  ...  ...   ...    ...   \n",
      "915  1.0  0.0  0.0  0.0  0.0  0.0  1.0  0.0  1.0  0.0  ...  0.0  54.0  127.0   \n",
      "916  0.0  0.0  0.0  1.0  0.0  0.0  1.0  0.0  1.0  0.0  ...  0.0  62.0  130.0   \n",
      "917  1.0  0.0  0.0  0.0  0.0  0.0  1.0  0.0  1.0  0.0  ...  0.0  55.0  122.0   \n",
      "918  1.0  0.0  0.0  0.0  1.0  0.0  0.0  0.0  1.0  0.0  ...  0.0  58.0  130.0   \n",
      "919  0.0  1.0  0.0  0.0  1.0  0.0  0.0  0.0  1.0  0.0  ...  0.0  62.0  120.0   \n",
      "\n",
      "        15     16   17   18 19 20 21  \n",
      "0    233.0  150.0  2.3  0.0  1  0  0  \n",
      "1    286.0  108.0  1.5  3.0  1  1  0  \n",
      "2    229.0  129.0  2.6  2.0  1  1  0  \n",
      "3    250.0  187.0  3.5  0.0  1  0  0  \n",
      "4    204.0  172.0  1.4  0.0  0  0  0  \n",
      "..     ...    ...  ...  ... .. .. ..  \n",
      "915  333.0  154.0  0.0  0.0  0  0  3  \n",
      "916  139.0  140.0  0.5  0.0  1  0  3  \n",
      "917  223.0  100.0  0.0  0.0  1  0  3  \n",
      "918  385.0  140.0  0.5  0.0  1  0  3  \n",
      "919  254.0   93.0  0.0  0.0  1  1  3  \n",
      "\n",
      "[920 rows x 22 columns]\n"
     ]
    }
   ],
   "source": [
    "labelEncoder_y = LabelEncoder()\n",
    "y = labelEncoder_y.fit_transform(y)\n",
    "\n",
    "# Label encode categorical columns in X (consider one-hot encoding if multiple categories)\n",
    "labelEncoder_X = LabelEncoder()\n",
    "for col in categorical_columns:\n",
    "    X[:, col] = labelEncoder_X.fit_transform(X[:, col])\n",
    "\n",
    "# One-hot encode specified categorical columns in X\n",
    "cat_encode = [9, 10, 11, 12]  # Use integer indices instead of column names\n",
    "ct = ColumnTransformer(\n",
    "    [('one_hot_encode', OneHotEncoder(), cat_encode)],\n",
    "    remainder='passthrough'\n",
    ")\n",
    "X = ct.fit_transform(X)\n",
    "print(pd.DataFrame(X[:, :]))"
   ]
  },
  {
   "cell_type": "markdown",
   "metadata": {},
   "source": [
    "### Split data"
   ]
  },
  {
   "cell_type": "code",
   "execution_count": 222,
   "metadata": {},
   "outputs": [],
   "source": [
    "\n",
    "# Split data into training and test sets\n",
    "X_train, X_test, y_train, y_test = train_test_split(X, y, test_size=0.2, random_state=0)\n"
   ]
  },
  {
   "cell_type": "markdown",
   "metadata": {},
   "source": [
    "### Standarized data"
   ]
  },
  {
   "cell_type": "code",
   "execution_count": 223,
   "metadata": {},
   "outputs": [
    {
     "name": "stdout",
     "output_type": "stream",
     "text": [
      "X_train after preprocessing:\n",
      "         0         1         2        3         4         5         6   \\\n",
      "0 -1.073334 -0.488935  1.817717 -0.20253 -0.508055  0.804072 -0.480384   \n",
      "1 -1.073334  2.045262 -0.550141 -0.20253 -0.508055  0.804072 -0.480384   \n",
      "2  0.931676 -0.488935 -0.550141 -0.20253 -0.508055 -1.243669  2.081666   \n",
      "3 -1.073334 -0.488935  1.817717 -0.20253  1.968292 -1.243669 -0.480384   \n",
      "4 -1.073334  2.045262 -0.550141 -0.20253 -0.508055  0.804072 -0.480384   \n",
      "\n",
      "         7         8         9   ...        12        13        14        15  \\\n",
      "0 -0.261180  0.636066 -0.537556  ... -0.510171 -0.879721  0.159825  0.219439   \n",
      "1 -0.261180  0.636066 -0.537556  ... -0.510171 -1.197839 -0.681599 -0.029345   \n",
      "2  3.828782 -1.572164 -0.537556  ... -0.510171  1.028983 -0.345030 -1.835336   \n",
      "3 -0.261180 -1.572164  1.860270  ... -0.510171 -0.985760  0.440299  0.330010   \n",
      "4 -0.261180  0.636066 -0.537556  ... -0.510171 -0.137447  0.440299  0.219439   \n",
      "\n",
      "         16        17        18        19        20        21  \n",
      "0 -1.124398 -0.794502 -0.350446  0.518619 -0.756736 -0.195564  \n",
      "1  0.457853 -0.794502 -0.350446  0.518619 -0.756736 -0.195564  \n",
      "2 -0.728835  0.628025 -0.350446  0.518619 -0.756736  1.581411  \n",
      "3  1.644542 -0.794502 -0.350446  0.518619 -0.756736 -1.084051  \n",
      "4  0.062290 -0.794502 -0.350446 -1.928198 -0.756736 -0.195564  \n",
      "\n",
      "[5 rows x 22 columns]\n"
     ]
    }
   ],
   "source": [
    "\n",
    "# Feature scaling\n",
    "sc_X = StandardScaler()\n",
    "X_train = sc_X.fit_transform(X_train)\n",
    "X_test = sc_X.transform(X_test)\n",
    "\n",
    "# Print the first few rows of X_train for verification\n",
    "print(\"X_train after preprocessing:\")\n",
    "print(pd.DataFrame(X_train[:5, :]))"
   ]
  },
  {
   "cell_type": "markdown",
   "metadata": {},
   "source": [
    "### Train model on Decision Tree Classifier"
   ]
  },
  {
   "cell_type": "code",
   "execution_count": 224,
   "metadata": {},
   "outputs": [
    {
     "name": "stdout",
     "output_type": "stream",
     "text": [
      "Decision Tree Model Accuracy: 0.4945652173913043\n",
      "Cross-validation Accuracy: 0.49863945578231295\n"
     ]
    }
   ],
   "source": [
    "\n",
    "\n",
    "# Initialize the Decision Tree model\n",
    "dt_model = DecisionTreeClassifier()\n",
    "\n",
    "# Fit the model on the training data\n",
    "dt_model.fit(X_train, y_train)\n",
    "\n",
    "# Make predictions on the test data\n",
    "y_pred = dt_model.predict(X_test)\n",
    "\n",
    "# Calculate accuracy\n",
    "accuracy = accuracy_score(y_test, y_pred)\n",
    "\n",
    "# Perform cross-validation\n",
    "scores = cross_val_score(dt_model, X_train, y_train, cv=5)\n",
    "mean_accuracy = scores.mean()\n",
    "\n",
    "# Print the performance metrics\n",
    "print('Decision Tree Model Accuracy:', accuracy)\n",
    "print(\"Cross-validation Accuracy:\", mean_accuracy)\n"
   ]
  },
  {
   "cell_type": "markdown",
   "metadata": {},
   "source": [
    "### Train Model on KNN CLassifier"
   ]
  },
  {
   "cell_type": "code",
   "execution_count": 225,
   "metadata": {},
   "outputs": [
    {
     "name": "stdout",
     "output_type": "stream",
     "text": [
      "KNN Model Accuracy: 0.5054347826086957\n",
      "Cross-validation Accuracy: 0.5665839308696452\n"
     ]
    }
   ],
   "source": [
    "from sklearn.neighbors import KNeighborsClassifier\n",
    "from sklearn.metrics import accuracy_score\n",
    "from sklearn.model_selection import cross_val_score\n",
    "\n",
    "# Initialize the KNN model\n",
    "knn_model = KNeighborsClassifier()\n",
    "\n",
    "# Fit the model on the training data\n",
    "knn_model.fit(X_train, y_train)\n",
    "\n",
    "# Make predictions on the test data\n",
    "y_pred = knn_model.predict(X_test)\n",
    "\n",
    "# Calculate accuracy\n",
    "accuracy = accuracy_score(y_test, y_pred)\n",
    "\n",
    "# Perform cross-validation\n",
    "scores = cross_val_score(knn_model, X_train, y_train, cv=5)\n",
    "mean_accuracy = scores.mean()\n",
    "\n",
    "# Print the performance metrics\n",
    "print('KNN Model Accuracy:', accuracy)\n",
    "print(\"Cross-validation Accuracy:\", mean_accuracy)\n"
   ]
  },
  {
   "cell_type": "markdown",
   "metadata": {},
   "source": [
    "### Train Model on SVM"
   ]
  },
  {
   "cell_type": "code",
   "execution_count": 226,
   "metadata": {},
   "outputs": [
    {
     "name": "stdout",
     "output_type": "stream",
     "text": [
      "SVM Model Accuracy: 0.5271739130434783\n",
      "Cross-validation Accuracy: 0.5842526199669058\n"
     ]
    }
   ],
   "source": [
    "\n",
    "# Initialize the SVM model\n",
    "svm_model = SVC()\n",
    "\n",
    "# Fit the model on the training data\n",
    "svm_model.fit(X_train, y_train)\n",
    "\n",
    "# Make predictions on the test data\n",
    "y_pred = svm_model.predict(X_test)\n",
    "\n",
    "# Calculate accuracy\n",
    "accuracy = accuracy_score(y_test, y_pred)\n",
    "\n",
    "# Perform cross-validation\n",
    "scores = cross_val_score(svm_model, X_train, y_train, cv=5)\n",
    "mean_accuracy = scores.mean()\n",
    "\n",
    "# Print the performance metrics\n",
    "print('SVM Model Accuracy:', accuracy)\n",
    "print(\"Cross-validation Accuracy:\", mean_accuracy)\n"
   ]
  }
 ],
 "metadata": {
  "kernelspec": {
   "display_name": "Python 3",
   "language": "python",
   "name": "python3"
  },
  "language_info": {
   "codemirror_mode": {
    "name": "ipython",
    "version": 3
   },
   "file_extension": ".py",
   "mimetype": "text/x-python",
   "name": "python",
   "nbconvert_exporter": "python",
   "pygments_lexer": "ipython3",
   "version": "3.10.2"
  }
 },
 "nbformat": 4,
 "nbformat_minor": 2
}
